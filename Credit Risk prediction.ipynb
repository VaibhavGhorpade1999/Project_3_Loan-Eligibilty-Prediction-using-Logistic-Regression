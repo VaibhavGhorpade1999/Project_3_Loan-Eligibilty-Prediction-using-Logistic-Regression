{
 "cells": [
  {
   "cell_type": "code",
   "execution_count": 1,
   "id": "b0712aaa-4fd4-47ab-a0dc-fba0e29df449",
   "metadata": {},
   "outputs": [],
   "source": [
    "import pandas as pd"
   ]
  },
  {
   "cell_type": "code",
   "execution_count": 2,
   "id": "1cada2d7-1fb9-4181-a025-d43a3e86624b",
   "metadata": {},
   "outputs": [],
   "source": [
    "cr=pd.read_csv(r\"C:\\Users\\Vaibhav A. Ghorpade\\Desktop\\dataset\\loan-train.csv\")"
   ]
  },
  {
   "cell_type": "code",
   "execution_count": 3,
   "id": "9ea35bda-87bc-4b72-9f4d-cec1a1181155",
   "metadata": {},
   "outputs": [
    {
     "data": {
      "text/html": [
       "<div>\n",
       "<style scoped>\n",
       "    .dataframe tbody tr th:only-of-type {\n",
       "        vertical-align: middle;\n",
       "    }\n",
       "\n",
       "    .dataframe tbody tr th {\n",
       "        vertical-align: top;\n",
       "    }\n",
       "\n",
       "    .dataframe thead th {\n",
       "        text-align: right;\n",
       "    }\n",
       "</style>\n",
       "<table border=\"1\" class=\"dataframe\">\n",
       "  <thead>\n",
       "    <tr style=\"text-align: right;\">\n",
       "      <th></th>\n",
       "      <th>Loan_ID</th>\n",
       "      <th>Gender</th>\n",
       "      <th>Married</th>\n",
       "      <th>Dependents</th>\n",
       "      <th>Education</th>\n",
       "      <th>Self_Employed</th>\n",
       "      <th>ApplicantIncome</th>\n",
       "      <th>CoapplicantIncome</th>\n",
       "      <th>LoanAmount</th>\n",
       "      <th>Loan_Amount_Term</th>\n",
       "      <th>Credit_History</th>\n",
       "      <th>Property_Area</th>\n",
       "      <th>Loan_Status</th>\n",
       "    </tr>\n",
       "  </thead>\n",
       "  <tbody>\n",
       "    <tr>\n",
       "      <th>0</th>\n",
       "      <td>LP001002</td>\n",
       "      <td>Male</td>\n",
       "      <td>No</td>\n",
       "      <td>0</td>\n",
       "      <td>Graduate</td>\n",
       "      <td>No</td>\n",
       "      <td>5849</td>\n",
       "      <td>0.0</td>\n",
       "      <td>NaN</td>\n",
       "      <td>360.0</td>\n",
       "      <td>1.0</td>\n",
       "      <td>Urban</td>\n",
       "      <td>Y</td>\n",
       "    </tr>\n",
       "    <tr>\n",
       "      <th>1</th>\n",
       "      <td>LP001003</td>\n",
       "      <td>Male</td>\n",
       "      <td>Yes</td>\n",
       "      <td>1</td>\n",
       "      <td>Graduate</td>\n",
       "      <td>No</td>\n",
       "      <td>4583</td>\n",
       "      <td>1508.0</td>\n",
       "      <td>128.0</td>\n",
       "      <td>360.0</td>\n",
       "      <td>1.0</td>\n",
       "      <td>Rural</td>\n",
       "      <td>N</td>\n",
       "    </tr>\n",
       "    <tr>\n",
       "      <th>2</th>\n",
       "      <td>LP001005</td>\n",
       "      <td>Male</td>\n",
       "      <td>Yes</td>\n",
       "      <td>0</td>\n",
       "      <td>Graduate</td>\n",
       "      <td>Yes</td>\n",
       "      <td>3000</td>\n",
       "      <td>0.0</td>\n",
       "      <td>66.0</td>\n",
       "      <td>360.0</td>\n",
       "      <td>1.0</td>\n",
       "      <td>Urban</td>\n",
       "      <td>Y</td>\n",
       "    </tr>\n",
       "    <tr>\n",
       "      <th>3</th>\n",
       "      <td>LP001006</td>\n",
       "      <td>Male</td>\n",
       "      <td>Yes</td>\n",
       "      <td>0</td>\n",
       "      <td>Not Graduate</td>\n",
       "      <td>No</td>\n",
       "      <td>2583</td>\n",
       "      <td>2358.0</td>\n",
       "      <td>120.0</td>\n",
       "      <td>360.0</td>\n",
       "      <td>1.0</td>\n",
       "      <td>Urban</td>\n",
       "      <td>Y</td>\n",
       "    </tr>\n",
       "    <tr>\n",
       "      <th>4</th>\n",
       "      <td>LP001008</td>\n",
       "      <td>Male</td>\n",
       "      <td>No</td>\n",
       "      <td>0</td>\n",
       "      <td>Graduate</td>\n",
       "      <td>No</td>\n",
       "      <td>6000</td>\n",
       "      <td>0.0</td>\n",
       "      <td>141.0</td>\n",
       "      <td>360.0</td>\n",
       "      <td>1.0</td>\n",
       "      <td>Urban</td>\n",
       "      <td>Y</td>\n",
       "    </tr>\n",
       "  </tbody>\n",
       "</table>\n",
       "</div>"
      ],
      "text/plain": [
       "    Loan_ID Gender Married Dependents     Education Self_Employed  \\\n",
       "0  LP001002   Male      No          0      Graduate            No   \n",
       "1  LP001003   Male     Yes          1      Graduate            No   \n",
       "2  LP001005   Male     Yes          0      Graduate           Yes   \n",
       "3  LP001006   Male     Yes          0  Not Graduate            No   \n",
       "4  LP001008   Male      No          0      Graduate            No   \n",
       "\n",
       "   ApplicantIncome  CoapplicantIncome  LoanAmount  Loan_Amount_Term  \\\n",
       "0             5849                0.0         NaN             360.0   \n",
       "1             4583             1508.0       128.0             360.0   \n",
       "2             3000                0.0        66.0             360.0   \n",
       "3             2583             2358.0       120.0             360.0   \n",
       "4             6000                0.0       141.0             360.0   \n",
       "\n",
       "   Credit_History Property_Area Loan_Status  \n",
       "0             1.0         Urban           Y  \n",
       "1             1.0         Rural           N  \n",
       "2             1.0         Urban           Y  \n",
       "3             1.0         Urban           Y  \n",
       "4             1.0         Urban           Y  "
      ]
     },
     "execution_count": 3,
     "metadata": {},
     "output_type": "execute_result"
    }
   ],
   "source": [
    "cr.head()"
   ]
  },
  {
   "cell_type": "code",
   "execution_count": 4,
   "id": "bd9bde62-7aec-4cce-afb2-7b47c2ac4e6e",
   "metadata": {},
   "outputs": [
    {
     "data": {
      "text/plain": [
       "(614, 13)"
      ]
     },
     "execution_count": 4,
     "metadata": {},
     "output_type": "execute_result"
    }
   ],
   "source": [
    "cr.shape"
   ]
  },
  {
   "cell_type": "code",
   "execution_count": 5,
   "id": "b26f780d-62d9-4196-9956-90fda41f1561",
   "metadata": {},
   "outputs": [],
   "source": [
    "#problem Statement\n",
    "#1. Bank want to build predictive model which it can be use for loan approval and loan rejection"
   ]
  },
  {
   "cell_type": "code",
   "execution_count": 6,
   "id": "d522816b-6779-4837-9687-7b5ab99b9c6e",
   "metadata": {},
   "outputs": [
    {
     "data": {
      "text/plain": [
       "Loan_ID               0\n",
       "Gender               13\n",
       "Married               3\n",
       "Dependents           15\n",
       "Education             0\n",
       "Self_Employed        32\n",
       "ApplicantIncome       0\n",
       "CoapplicantIncome     0\n",
       "LoanAmount           22\n",
       "Loan_Amount_Term     14\n",
       "Credit_History       50\n",
       "Property_Area         0\n",
       "Loan_Status           0\n",
       "dtype: int64"
      ]
     },
     "execution_count": 6,
     "metadata": {},
     "output_type": "execute_result"
    }
   ],
   "source": [
    "cr.isnull().sum()"
   ]
  },
  {
   "cell_type": "code",
   "execution_count": 7,
   "id": "f974aa39-ec38-4c7b-aad1-bba089e2aaaa",
   "metadata": {},
   "outputs": [],
   "source": [
    "#Data Cleaning\n",
    "cr.Gender=cr.Gender.fillna(\"Male\")               \n",
    "cr.Married=cr.Married.fillna(\"No\")              \n",
    "cr.Dependents=cr.Dependents.fillna(0)          \n",
    "cr.Self_Employed=cr.Self_Employed.fillna(\"Yes\")       \n",
    "cr.LoanAmount=cr.LoanAmount.fillna(cr.LoanAmount.mean())           \n",
    "cr.Loan_Amount_Term=cr.Loan_Amount_Term.fillna(cr.Loan_Amount_Term.mean())     \n",
    "cr.Credit_History=cr.Credit_History.fillna(0.0)       "
   ]
  },
  {
   "cell_type": "code",
   "execution_count": 8,
   "id": "26762c89-b4f0-45dc-927a-3e12548c74b4",
   "metadata": {},
   "outputs": [
    {
     "name": "stdout",
     "output_type": "stream",
     "text": [
      "<class 'pandas.core.frame.DataFrame'>\n",
      "RangeIndex: 614 entries, 0 to 613\n",
      "Data columns (total 13 columns):\n",
      " #   Column             Non-Null Count  Dtype  \n",
      "---  ------             --------------  -----  \n",
      " 0   Loan_ID            614 non-null    object \n",
      " 1   Gender             614 non-null    object \n",
      " 2   Married            614 non-null    object \n",
      " 3   Dependents         614 non-null    object \n",
      " 4   Education          614 non-null    object \n",
      " 5   Self_Employed      614 non-null    object \n",
      " 6   ApplicantIncome    614 non-null    int64  \n",
      " 7   CoapplicantIncome  614 non-null    float64\n",
      " 8   LoanAmount         614 non-null    float64\n",
      " 9   Loan_Amount_Term   614 non-null    float64\n",
      " 10  Credit_History     614 non-null    float64\n",
      " 11  Property_Area      614 non-null    object \n",
      " 12  Loan_Status        614 non-null    object \n",
      "dtypes: float64(4), int64(1), object(8)\n",
      "memory usage: 62.5+ KB\n"
     ]
    }
   ],
   "source": [
    "cr.info()"
   ]
  },
  {
   "cell_type": "code",
   "execution_count": 9,
   "id": "a7d08eda-0a32-4e77-9e55-9cc609d0fc83",
   "metadata": {},
   "outputs": [
    {
     "data": {
      "text/plain": [
       "array(['0', '1', '2', '3+', 0], dtype=object)"
      ]
     },
     "execution_count": 9,
     "metadata": {},
     "output_type": "execute_result"
    }
   ],
   "source": [
    "#Checking dependnt variable has how much unique values\n",
    "cr.Dependents.unique()"
   ]
  },
  {
   "cell_type": "code",
   "execution_count": 10,
   "id": "056219db-74e3-44b5-be5d-3563faa3258e",
   "metadata": {},
   "outputs": [],
   "source": [
    "#as depandant variable contains mix of string and int we need to replace all value with string or int\n",
    "cr.Dependents=cr.Dependents.replace({\"0\":\"zero\",\"1\":\"one\",\"2\":\"two\",\"3+\":\"Three And Above\",0:\"zero\"})"
   ]
  },
  {
   "cell_type": "code",
   "execution_count": 11,
   "id": "0633f10d-847d-44ae-a692-e6408e33bb3b",
   "metadata": {},
   "outputs": [
    {
     "data": {
      "text/plain": [
       "array(['zero', 'one', 'two', 'Three And Above'], dtype=object)"
      ]
     },
     "execution_count": 11,
     "metadata": {},
     "output_type": "execute_result"
    }
   ],
   "source": [
    "cr.Dependents.unique()"
   ]
  },
  {
   "cell_type": "code",
   "execution_count": 12,
   "id": "00c9c318-98fa-41fe-be26-9df5170bf2e6",
   "metadata": {},
   "outputs": [],
   "source": [
    "#label Encoder\n",
    "#There should not be any null in dataframe for label encoder "
   ]
  },
  {
   "cell_type": "code",
   "execution_count": 13,
   "id": "66fd78ac-c9ba-4419-90df-b16f7ba13d39",
   "metadata": {},
   "outputs": [],
   "source": [
    "from sklearn.preprocessing import LabelEncoder\n",
    "le=LabelEncoder()"
   ]
  },
  {
   "cell_type": "code",
   "execution_count": 14,
   "id": "6495a817-788a-46d1-afaa-7d7dd87e9d54",
   "metadata": {},
   "outputs": [],
   "source": [
    "cr.Gender=le.fit_transform(cr.Gender)               \n",
    "cr.Married=le.fit_transform(cr.Married)                      \n",
    "cr.Self_Employed=le.fit_transform(cr.Self_Employed)                 \n",
    "cr.Property_Area=le.fit_transform(cr.Property_Area)\n",
    "cr.Education=le.fit_transform(cr.Education)\n",
    "cr.Dependents=le.fit_transform(cr.Dependents)"
   ]
  },
  {
   "cell_type": "code",
   "execution_count": 15,
   "id": "158b5b67-9a24-4816-aee5-9c23a236159e",
   "metadata": {
    "tags": []
   },
   "outputs": [],
   "source": [
    "#converting target variable into binary numeric\n",
    "cr.Loan_Status=cr.Loan_Status.replace({\"Y\":1,\"N\":0})"
   ]
  },
  {
   "cell_type": "code",
   "execution_count": 16,
   "id": "9a9b3ec5-e3be-4514-9e06-5047a7f42c2d",
   "metadata": {},
   "outputs": [],
   "source": [
    "cr=cr.drop([\"Loan_ID\"],axis=1)"
   ]
  },
  {
   "cell_type": "code",
   "execution_count": 17,
   "id": "28d5fcdd-629e-46e3-9ed6-aa692b46612b",
   "metadata": {},
   "outputs": [
    {
     "data": {
      "text/html": [
       "<div>\n",
       "<style scoped>\n",
       "    .dataframe tbody tr th:only-of-type {\n",
       "        vertical-align: middle;\n",
       "    }\n",
       "\n",
       "    .dataframe tbody tr th {\n",
       "        vertical-align: top;\n",
       "    }\n",
       "\n",
       "    .dataframe thead th {\n",
       "        text-align: right;\n",
       "    }\n",
       "</style>\n",
       "<table border=\"1\" class=\"dataframe\">\n",
       "  <thead>\n",
       "    <tr style=\"text-align: right;\">\n",
       "      <th></th>\n",
       "      <th>Gender</th>\n",
       "      <th>Married</th>\n",
       "      <th>Dependents</th>\n",
       "      <th>Education</th>\n",
       "      <th>Self_Employed</th>\n",
       "      <th>ApplicantIncome</th>\n",
       "      <th>CoapplicantIncome</th>\n",
       "      <th>LoanAmount</th>\n",
       "      <th>Loan_Amount_Term</th>\n",
       "      <th>Credit_History</th>\n",
       "      <th>Property_Area</th>\n",
       "      <th>Loan_Status</th>\n",
       "    </tr>\n",
       "  </thead>\n",
       "  <tbody>\n",
       "    <tr>\n",
       "      <th>0</th>\n",
       "      <td>1</td>\n",
       "      <td>0</td>\n",
       "      <td>3</td>\n",
       "      <td>0</td>\n",
       "      <td>0</td>\n",
       "      <td>5849</td>\n",
       "      <td>0.0</td>\n",
       "      <td>146.412162</td>\n",
       "      <td>360.0</td>\n",
       "      <td>1.0</td>\n",
       "      <td>2</td>\n",
       "      <td>1</td>\n",
       "    </tr>\n",
       "    <tr>\n",
       "      <th>1</th>\n",
       "      <td>1</td>\n",
       "      <td>1</td>\n",
       "      <td>1</td>\n",
       "      <td>0</td>\n",
       "      <td>0</td>\n",
       "      <td>4583</td>\n",
       "      <td>1508.0</td>\n",
       "      <td>128.000000</td>\n",
       "      <td>360.0</td>\n",
       "      <td>1.0</td>\n",
       "      <td>0</td>\n",
       "      <td>0</td>\n",
       "    </tr>\n",
       "    <tr>\n",
       "      <th>2</th>\n",
       "      <td>1</td>\n",
       "      <td>1</td>\n",
       "      <td>3</td>\n",
       "      <td>0</td>\n",
       "      <td>1</td>\n",
       "      <td>3000</td>\n",
       "      <td>0.0</td>\n",
       "      <td>66.000000</td>\n",
       "      <td>360.0</td>\n",
       "      <td>1.0</td>\n",
       "      <td>2</td>\n",
       "      <td>1</td>\n",
       "    </tr>\n",
       "    <tr>\n",
       "      <th>3</th>\n",
       "      <td>1</td>\n",
       "      <td>1</td>\n",
       "      <td>3</td>\n",
       "      <td>1</td>\n",
       "      <td>0</td>\n",
       "      <td>2583</td>\n",
       "      <td>2358.0</td>\n",
       "      <td>120.000000</td>\n",
       "      <td>360.0</td>\n",
       "      <td>1.0</td>\n",
       "      <td>2</td>\n",
       "      <td>1</td>\n",
       "    </tr>\n",
       "    <tr>\n",
       "      <th>4</th>\n",
       "      <td>1</td>\n",
       "      <td>0</td>\n",
       "      <td>3</td>\n",
       "      <td>0</td>\n",
       "      <td>0</td>\n",
       "      <td>6000</td>\n",
       "      <td>0.0</td>\n",
       "      <td>141.000000</td>\n",
       "      <td>360.0</td>\n",
       "      <td>1.0</td>\n",
       "      <td>2</td>\n",
       "      <td>1</td>\n",
       "    </tr>\n",
       "  </tbody>\n",
       "</table>\n",
       "</div>"
      ],
      "text/plain": [
       "   Gender  Married  Dependents  Education  Self_Employed  ApplicantIncome  \\\n",
       "0       1        0           3          0              0             5849   \n",
       "1       1        1           1          0              0             4583   \n",
       "2       1        1           3          0              1             3000   \n",
       "3       1        1           3          1              0             2583   \n",
       "4       1        0           3          0              0             6000   \n",
       "\n",
       "   CoapplicantIncome  LoanAmount  Loan_Amount_Term  Credit_History  \\\n",
       "0                0.0  146.412162             360.0             1.0   \n",
       "1             1508.0  128.000000             360.0             1.0   \n",
       "2                0.0   66.000000             360.0             1.0   \n",
       "3             2358.0  120.000000             360.0             1.0   \n",
       "4                0.0  141.000000             360.0             1.0   \n",
       "\n",
       "   Property_Area  Loan_Status  \n",
       "0              2            1  \n",
       "1              0            0  \n",
       "2              2            1  \n",
       "3              2            1  \n",
       "4              2            1  "
      ]
     },
     "execution_count": 17,
     "metadata": {},
     "output_type": "execute_result"
    }
   ],
   "source": [
    "cr.head()"
   ]
  },
  {
   "cell_type": "code",
   "execution_count": 18,
   "id": "d4b581d1-e215-4206-83d1-a86163d7643e",
   "metadata": {},
   "outputs": [
    {
     "name": "stdout",
     "output_type": "stream",
     "text": [
      "<class 'pandas.core.frame.DataFrame'>\n",
      "RangeIndex: 614 entries, 0 to 613\n",
      "Data columns (total 12 columns):\n",
      " #   Column             Non-Null Count  Dtype  \n",
      "---  ------             --------------  -----  \n",
      " 0   Gender             614 non-null    int32  \n",
      " 1   Married            614 non-null    int32  \n",
      " 2   Dependents         614 non-null    int32  \n",
      " 3   Education          614 non-null    int32  \n",
      " 4   Self_Employed      614 non-null    int32  \n",
      " 5   ApplicantIncome    614 non-null    int64  \n",
      " 6   CoapplicantIncome  614 non-null    float64\n",
      " 7   LoanAmount         614 non-null    float64\n",
      " 8   Loan_Amount_Term   614 non-null    float64\n",
      " 9   Credit_History     614 non-null    float64\n",
      " 10  Property_Area      614 non-null    int32  \n",
      " 11  Loan_Status        614 non-null    int64  \n",
      "dtypes: float64(4), int32(6), int64(2)\n",
      "memory usage: 43.3 KB\n"
     ]
    }
   ],
   "source": [
    "cr.info()"
   ]
  },
  {
   "cell_type": "code",
   "execution_count": 19,
   "id": "c595a6a3-64fd-40d2-835d-1fe1a43908c1",
   "metadata": {},
   "outputs": [
    {
     "data": {
      "text/plain": [
       "array([3, 1, 2, 0])"
      ]
     },
     "execution_count": 19,
     "metadata": {},
     "output_type": "execute_result"
    }
   ],
   "source": [
    "cr.Dependents.unique()"
   ]
  },
  {
   "cell_type": "code",
   "execution_count": 20,
   "id": "9f0a9922-5aa8-42e5-b1f7-42cbfc0c262d",
   "metadata": {},
   "outputs": [],
   "source": [
    "#splitting the model into train and test data"
   ]
  },
  {
   "cell_type": "code",
   "execution_count": 21,
   "id": "a8448200-13dd-41f4-b683-301cd8c034a1",
   "metadata": {},
   "outputs": [],
   "source": [
    "from sklearn.model_selection import train_test_split"
   ]
  },
  {
   "cell_type": "code",
   "execution_count": 22,
   "id": "40220e5f-b590-442a-bd15-67dfa43915aa",
   "metadata": {},
   "outputs": [],
   "source": [
    "cr_train,cr_test=train_test_split(cr,test_size=0.2)"
   ]
  },
  {
   "cell_type": "code",
   "execution_count": 23,
   "id": "9377c3d2-ec3e-4e5d-a41f-73848dc5fc5b",
   "metadata": {},
   "outputs": [],
   "source": [
    "cr_train_x=cr_train.iloc[: ,0:-1]\n",
    "cr_test_x=cr_test.iloc[: ,0:-1]"
   ]
  },
  {
   "cell_type": "code",
   "execution_count": 24,
   "id": "c485d52c-58c8-4252-870e-074d2408d952",
   "metadata": {},
   "outputs": [],
   "source": [
    "cr_train_y=cr_train.iloc[: ,-1]\n",
    "cr_test_y=cr_test.iloc[: ,-1]"
   ]
  },
  {
   "cell_type": "code",
   "execution_count": 25,
   "id": "57003dce-dfe2-4117-966b-1da45570df79",
   "metadata": {},
   "outputs": [],
   "source": [
    "from sklearn.linear_model import LogisticRegression"
   ]
  },
  {
   "cell_type": "code",
   "execution_count": 26,
   "id": "a0c67e93-4c37-4da4-a905-d7dc27f8027d",
   "metadata": {},
   "outputs": [],
   "source": [
    "log_cr=LogisticRegression()"
   ]
  },
  {
   "cell_type": "code",
   "execution_count": 27,
   "id": "82335562-7903-4e05-b29f-5976d5986f89",
   "metadata": {},
   "outputs": [
    {
     "name": "stderr",
     "output_type": "stream",
     "text": [
      "C:\\Users\\Vaibhav A. Ghorpade\\anaconda3\\lib\\site-packages\\sklearn\\linear_model\\_logistic.py:814: ConvergenceWarning: lbfgs failed to converge (status=1):\n",
      "STOP: TOTAL NO. of ITERATIONS REACHED LIMIT.\n",
      "\n",
      "Increase the number of iterations (max_iter) or scale the data as shown in:\n",
      "    https://scikit-learn.org/stable/modules/preprocessing.html\n",
      "Please also refer to the documentation for alternative solver options:\n",
      "    https://scikit-learn.org/stable/modules/linear_model.html#logistic-regression\n",
      "  n_iter_i = _check_optimize_result(\n"
     ]
    },
    {
     "data": {
      "text/plain": [
       "LogisticRegression()"
      ]
     },
     "execution_count": 27,
     "metadata": {},
     "output_type": "execute_result"
    }
   ],
   "source": [
    "log_cr.fit(cr_train_x,cr_train_y)"
   ]
  },
  {
   "cell_type": "code",
   "execution_count": 28,
   "id": "6927c639-1b9b-4990-9622-51a4e8123cd8",
   "metadata": {},
   "outputs": [],
   "source": [
    "pred=log_cr.predict(cr_test_x)"
   ]
  },
  {
   "cell_type": "code",
   "execution_count": 29,
   "id": "468c2b66-9e48-46c3-a0be-30eb159add76",
   "metadata": {},
   "outputs": [
    {
     "data": {
      "text/plain": [
       "array([1, 0, 0, 1, 1, 0, 1, 1, 1, 1, 1, 1, 1, 1, 0, 1, 1, 1, 1, 1, 0, 1,\n",
       "       0, 1, 1, 1, 0, 1, 1, 1, 1, 1, 0, 1, 0, 1, 1, 1, 1, 1, 1, 0, 1, 1,\n",
       "       1, 0, 1, 0, 1, 1, 1, 1, 1, 1, 0, 1, 1, 0, 0, 0, 1, 1, 0, 0, 1, 1,\n",
       "       1, 1, 1, 0, 1, 1, 1, 1, 1, 1, 1, 0, 1, 1, 0, 1, 1, 1, 1, 1, 1, 0,\n",
       "       1, 1, 1, 0, 1, 1, 0, 1, 1, 1, 0, 1, 1, 0, 1, 1, 0, 1, 1, 1, 1, 0,\n",
       "       1, 1, 1, 1, 0, 1, 1, 0, 1, 1, 1, 1, 1], dtype=int64)"
      ]
     },
     "execution_count": 29,
     "metadata": {},
     "output_type": "execute_result"
    }
   ],
   "source": [
    "pred"
   ]
  },
  {
   "cell_type": "code",
   "execution_count": 30,
   "id": "a60ab14b-5fe2-4ac7-83f3-9c72fbe5578c",
   "metadata": {},
   "outputs": [
    {
     "data": {
      "text/plain": [
       "123"
      ]
     },
     "execution_count": 30,
     "metadata": {},
     "output_type": "execute_result"
    }
   ],
   "source": [
    "len(pred)"
   ]
  },
  {
   "cell_type": "code",
   "execution_count": 31,
   "id": "6f14faf6-2272-4d9a-bc16-f8bd6751e903",
   "metadata": {},
   "outputs": [],
   "source": [
    "#confusion matrix\n",
    "#two ways for confusion matrix\n",
    "#1. using crosstab\n",
    "#2. using sklearn"
   ]
  },
  {
   "cell_type": "code",
   "execution_count": 32,
   "id": "ded8bdfa-c3c6-4832-96f8-2b62063a3160",
   "metadata": {},
   "outputs": [
    {
     "data": {
      "text/html": [
       "<div>\n",
       "<style scoped>\n",
       "    .dataframe tbody tr th:only-of-type {\n",
       "        vertical-align: middle;\n",
       "    }\n",
       "\n",
       "    .dataframe tbody tr th {\n",
       "        vertical-align: top;\n",
       "    }\n",
       "\n",
       "    .dataframe thead th {\n",
       "        text-align: right;\n",
       "    }\n",
       "</style>\n",
       "<table border=\"1\" class=\"dataframe\">\n",
       "  <thead>\n",
       "    <tr style=\"text-align: right;\">\n",
       "      <th>col_0</th>\n",
       "      <th>0</th>\n",
       "      <th>1</th>\n",
       "    </tr>\n",
       "    <tr>\n",
       "      <th>Loan_Status</th>\n",
       "      <th></th>\n",
       "      <th></th>\n",
       "    </tr>\n",
       "  </thead>\n",
       "  <tbody>\n",
       "    <tr>\n",
       "      <th>0</th>\n",
       "      <td>18</td>\n",
       "      <td>22</td>\n",
       "    </tr>\n",
       "    <tr>\n",
       "      <th>1</th>\n",
       "      <td>12</td>\n",
       "      <td>71</td>\n",
       "    </tr>\n",
       "  </tbody>\n",
       "</table>\n",
       "</div>"
      ],
      "text/plain": [
       "col_0         0   1\n",
       "Loan_Status        \n",
       "0            18  22\n",
       "1            12  71"
      ]
     },
     "execution_count": 32,
     "metadata": {},
     "output_type": "execute_result"
    }
   ],
   "source": [
    "tab_cr=pd.crosstab(cr_test_y,pred)\n",
    "tab_cr"
   ]
  },
  {
   "cell_type": "code",
   "execution_count": 33,
   "id": "23a49eda-defc-4e69-ad29-8c55acbfa4e0",
   "metadata": {},
   "outputs": [
    {
     "data": {
      "text/plain": [
       "array([[18, 22],\n",
       "       [12, 71]], dtype=int64)"
      ]
     },
     "execution_count": 33,
     "metadata": {},
     "output_type": "execute_result"
    }
   ],
   "source": [
    "from sklearn.metrics import confusion_matrix\n",
    "tab_cr=confusion_matrix(cr_test_y,pred)\n",
    "tab_cr"
   ]
  },
  {
   "cell_type": "code",
   "execution_count": 34,
   "id": "09752405-c207-4e1d-8e91-fb134e6a52cd",
   "metadata": {},
   "outputs": [
    {
     "data": {
      "text/plain": [
       "72.35772357723577"
      ]
     },
     "execution_count": 34,
     "metadata": {},
     "output_type": "execute_result"
    }
   ],
   "source": [
    "accu=tab_cr.diagonal().sum()*100/tab_cr.sum()\n",
    "accu"
   ]
  },
  {
   "cell_type": "code",
   "execution_count": 41,
   "id": "f4cf188b-7029-4a90-a3c7-6fd5d310e3b4",
   "metadata": {},
   "outputs": [
    {
     "data": {
      "text/plain": [
       "72.35772357723577"
      ]
     },
     "execution_count": 41,
     "metadata": {},
     "output_type": "execute_result"
    }
   ],
   "source": [
    "#another method to get accuracy\n",
    "from sklearn.metrics import accuracy_score\n",
    "accuracy_score(cr_test_y,pred)*100"
   ]
  },
  {
   "cell_type": "code",
   "execution_count": 38,
   "id": "5ba17532-30a1-4d65-9b35-9feb0854685d",
   "metadata": {},
   "outputs": [
    {
     "data": {
      "text/plain": [
       "85.5421686746988"
      ]
     },
     "execution_count": 38,
     "metadata": {},
     "output_type": "execute_result"
    }
   ],
   "source": [
    "Tpr=(tab_cr[1][1]*100)/(tab_cr[1][1]+tab_cr[1][0])\n",
    "Tpr"
   ]
  },
  {
   "cell_type": "code",
   "execution_count": 45,
   "id": "22185200-4c77-4ee5-9fd6-92657551acce",
   "metadata": {},
   "outputs": [
    {
     "data": {
      "text/plain": [
       "85.54216867469879"
      ]
     },
     "execution_count": 45,
     "metadata": {},
     "output_type": "execute_result"
    }
   ],
   "source": [
    "#another method to get Tpr Or recall\n",
    "from sklearn.metrics import recall_score\n",
    "recall_score(cr_test_y,pred)*100"
   ]
  },
  {
   "cell_type": "code",
   "execution_count": 39,
   "id": "b916d2ac-0bd0-408c-bd2c-f3065102cea1",
   "metadata": {},
   "outputs": [
    {
     "data": {
      "text/plain": [
       "55.0"
      ]
     },
     "execution_count": 39,
     "metadata": {},
     "output_type": "execute_result"
    }
   ],
   "source": [
    "Fpr=(tab_cr[0][1]*100)/(tab_cr[0][1]+tab_cr[0][0])\n",
    "Fpr"
   ]
  },
  {
   "cell_type": "code",
   "execution_count": 42,
   "id": "f9007e7e-64cc-4f95-923d-159560f5d18e",
   "metadata": {},
   "outputs": [
    {
     "data": {
      "text/plain": [
       "76.34408602150538"
      ]
     },
     "execution_count": 42,
     "metadata": {},
     "output_type": "execute_result"
    }
   ],
   "source": [
    "#Two ways of checking precision\n",
    "from sklearn.metrics import precision_score\n",
    "precision_score(cr_test_y,pred)*100"
   ]
  },
  {
   "cell_type": "code",
   "execution_count": 44,
   "id": "a86b9e4a-9582-4528-87ea-645213b96077",
   "metadata": {},
   "outputs": [
    {
     "data": {
      "text/plain": [
       "76.34408602150538"
      ]
     },
     "execution_count": 44,
     "metadata": {},
     "output_type": "execute_result"
    }
   ],
   "source": [
    "precision=(tab_cr[1][1]*100)/(tab_cr[1][1]+tab_cr[0][1])\n",
    "precision"
   ]
  },
  {
   "cell_type": "code",
   "execution_count": 46,
   "id": "8ca402ef-826a-482f-91d6-29998a804311",
   "metadata": {},
   "outputs": [
    {
     "data": {
      "text/plain": [
       "80.68181818181817"
      ]
     },
     "execution_count": 46,
     "metadata": {},
     "output_type": "execute_result"
    }
   ],
   "source": [
    "#F1 ratio\n",
    "from sklearn.metrics import f1_score\n",
    "f1_score(cr_test_y,pred)*100"
   ]
  },
  {
   "cell_type": "code",
   "execution_count": 47,
   "id": "3bcd58a3-1458-4294-bed3-46d8f41a5e3b",
   "metadata": {},
   "outputs": [],
   "source": [
    "#auroc and build the plot for auroc"
   ]
  },
  {
   "cell_type": "code",
   "execution_count": 48,
   "id": "78d9c341-41fa-4964-a50f-db46f4117ba3",
   "metadata": {},
   "outputs": [],
   "source": [
    "from sklearn.metrics import roc_auc_score\n",
    "from sklearn.metrics import roc_curve"
   ]
  },
  {
   "cell_type": "code",
   "execution_count": 49,
   "id": "6338a1c0-f40e-49d2-b1e3-bdb2de75c620",
   "metadata": {},
   "outputs": [],
   "source": [
    "pred=log_cr.predict(cr_test_x)\n",
    "#pred"
   ]
  },
  {
   "cell_type": "code",
   "execution_count": 50,
   "id": "7237a09b-37a5-495d-b194-3894e043cda3",
   "metadata": {},
   "outputs": [],
   "source": [
    "pred_prob=log_cr.predict_proba(cr_test_x)"
   ]
  },
  {
   "cell_type": "code",
   "execution_count": 52,
   "id": "2ff9486f-128e-4c96-baa3-39170ecee984",
   "metadata": {},
   "outputs": [
    {
     "data": {
      "text/plain": [
       "array([[0.32654058, 0.67345942],\n",
       "       [0.51091219, 0.48908781],\n",
       "       [0.82883137, 0.17116863],\n",
       "       [0.15656761, 0.84343239],\n",
       "       [0.10890213, 0.89109787],\n",
       "       [0.66591032, 0.33408968],\n",
       "       [0.34603329, 0.65396671],\n",
       "       [0.14217203, 0.85782797],\n",
       "       [0.11719886, 0.88280114],\n",
       "       [0.13765332, 0.86234668],\n",
       "       [0.18606202, 0.81393798],\n",
       "       [0.37028862, 0.62971138],\n",
       "       [0.14995752, 0.85004248],\n",
       "       [0.30248589, 0.69751411],\n",
       "       [0.62925203, 0.37074797],\n",
       "       [0.14457863, 0.85542137],\n",
       "       [0.24490033, 0.75509967],\n",
       "       [0.15713599, 0.84286401],\n",
       "       [0.35974888, 0.64025112],\n",
       "       [0.20582462, 0.79417538],\n",
       "       [0.62455928, 0.37544072],\n",
       "       [0.10357809, 0.89642191],\n",
       "       [0.58931848, 0.41068152],\n",
       "       [0.31495219, 0.68504781],\n",
       "       [0.22767621, 0.77232379],\n",
       "       [0.19811898, 0.80188102],\n",
       "       [0.69212041, 0.30787959],\n",
       "       [0.14713993, 0.85286007],\n",
       "       [0.17105782, 0.82894218],\n",
       "       [0.27563022, 0.72436978],\n",
       "       [0.18988815, 0.81011185],\n",
       "       [0.30715495, 0.69284505],\n",
       "       [0.66025192, 0.33974808],\n",
       "       [0.27122222, 0.72877778],\n",
       "       [0.74627829, 0.25372171],\n",
       "       [0.10766929, 0.89233071],\n",
       "       [0.15342672, 0.84657328],\n",
       "       [0.18946617, 0.81053383],\n",
       "       [0.16315902, 0.83684098],\n",
       "       [0.13934011, 0.86065989],\n",
       "       [0.18120798, 0.81879202],\n",
       "       [0.53991013, 0.46008987],\n",
       "       [0.22581756, 0.77418244],\n",
       "       [0.21622746, 0.78377254],\n",
       "       [0.09568016, 0.90431984],\n",
       "       [0.63600418, 0.36399582],\n",
       "       [0.2309163 , 0.7690837 ],\n",
       "       [0.57246745, 0.42753255],\n",
       "       [0.16276528, 0.83723472],\n",
       "       [0.18501695, 0.81498305],\n",
       "       [0.13691224, 0.86308776],\n",
       "       [0.11061117, 0.88938883],\n",
       "       [0.11928216, 0.88071784],\n",
       "       [0.16760784, 0.83239216],\n",
       "       [0.57535598, 0.42464402],\n",
       "       [0.1336154 , 0.8663846 ],\n",
       "       [0.33064003, 0.66935997],\n",
       "       [0.54188433, 0.45811567],\n",
       "       [0.59775232, 0.40224768],\n",
       "       [0.69986351, 0.30013649],\n",
       "       [0.1795684 , 0.8204316 ],\n",
       "       [0.21565351, 0.78434649],\n",
       "       [0.66333155, 0.33666845],\n",
       "       [0.70708448, 0.29291552],\n",
       "       [0.17498423, 0.82501577],\n",
       "       [0.14158268, 0.85841732],\n",
       "       [0.22567791, 0.77432209],\n",
       "       [0.39013738, 0.60986262],\n",
       "       [0.18735504, 0.81264496],\n",
       "       [0.57715529, 0.42284471],\n",
       "       [0.2094587 , 0.7905413 ],\n",
       "       [0.18950974, 0.81049026],\n",
       "       [0.15779842, 0.84220158],\n",
       "       [0.13009116, 0.86990884],\n",
       "       [0.1089168 , 0.8910832 ],\n",
       "       [0.2387172 , 0.7612828 ],\n",
       "       [0.30515612, 0.69484388],\n",
       "       [0.55877126, 0.44122874],\n",
       "       [0.29242757, 0.70757243],\n",
       "       [0.24879712, 0.75120288],\n",
       "       [0.71277951, 0.28722049],\n",
       "       [0.15308888, 0.84691112],\n",
       "       [0.2148507 , 0.7851493 ],\n",
       "       [0.14940414, 0.85059586],\n",
       "       [0.26805504, 0.73194496],\n",
       "       [0.37943368, 0.62056632],\n",
       "       [0.19506498, 0.80493502],\n",
       "       [0.65372025, 0.34627975],\n",
       "       [0.21670062, 0.78329938],\n",
       "       [0.11629822, 0.88370178],\n",
       "       [0.16529755, 0.83470245],\n",
       "       [0.62704412, 0.37295588],\n",
       "       [0.24221419, 0.75778581],\n",
       "       [0.16209702, 0.83790298],\n",
       "       [0.7335318 , 0.2664682 ],\n",
       "       [0.2225659 , 0.7774341 ],\n",
       "       [0.32522531, 0.67477469],\n",
       "       [0.19593455, 0.80406545],\n",
       "       [0.50633517, 0.49366483],\n",
       "       [0.13253882, 0.86746118],\n",
       "       [0.19276168, 0.80723832],\n",
       "       [0.5451213 , 0.4548787 ],\n",
       "       [0.30426567, 0.69573433],\n",
       "       [0.25222244, 0.74777756],\n",
       "       [0.65811504, 0.34188496],\n",
       "       [0.20253225, 0.79746775],\n",
       "       [0.2508586 , 0.7491414 ],\n",
       "       [0.24200111, 0.75799889],\n",
       "       [0.17605388, 0.82394612],\n",
       "       [0.56938713, 0.43061287],\n",
       "       [0.2125023 , 0.7874977 ],\n",
       "       [0.15975893, 0.84024107],\n",
       "       [0.1871798 , 0.8128202 ],\n",
       "       [0.18474716, 0.81525284],\n",
       "       [0.72297327, 0.27702673],\n",
       "       [0.11303732, 0.88696268],\n",
       "       [0.20754815, 0.79245185],\n",
       "       [0.65293476, 0.34706524],\n",
       "       [0.40178415, 0.59821585],\n",
       "       [0.16021991, 0.83978009],\n",
       "       [0.24897156, 0.75102844],\n",
       "       [0.31697056, 0.68302944],\n",
       "       [0.17559827, 0.82440173]])"
      ]
     },
     "execution_count": 52,
     "metadata": {},
     "output_type": "execute_result"
    }
   ],
   "source": [
    "pred_prob"
   ]
  },
  {
   "cell_type": "code",
   "execution_count": 53,
   "id": "5556c670-4251-4adb-b351-02782625e04d",
   "metadata": {},
   "outputs": [
    {
     "data": {
      "text/plain": [
       "(123, 2)"
      ]
     },
     "execution_count": 53,
     "metadata": {},
     "output_type": "execute_result"
    }
   ],
   "source": [
    "pred_prob.shape"
   ]
  },
  {
   "cell_type": "code",
   "execution_count": 55,
   "id": "5fb5b84d-5252-43e1-b7f5-e6a74cfe4f82",
   "metadata": {},
   "outputs": [
    {
     "data": {
      "text/plain": [
       "0.6527108433734939"
      ]
     },
     "execution_count": 55,
     "metadata": {},
     "output_type": "execute_result"
    }
   ],
   "source": [
    "roc_auc_score(cr_test_y,pred)\n",
    "#this is the area under the curve AUROC"
   ]
  },
  {
   "cell_type": "code",
   "execution_count": 56,
   "id": "b593d277-4db2-4b07-b3b3-475226e2e18f",
   "metadata": {},
   "outputs": [
    {
     "data": {
      "text/plain": [
       "(123, 2)"
      ]
     },
     "execution_count": 56,
     "metadata": {},
     "output_type": "execute_result"
    }
   ],
   "source": [
    "pred_prob=log_cr.predict_proba(cr_test_x)\n",
    "pred_prob.shape"
   ]
  },
  {
   "cell_type": "code",
   "execution_count": 57,
   "id": "c32b5ff8-3043-4fdd-bd97-4c053a46b910",
   "metadata": {},
   "outputs": [
    {
     "data": {
      "text/plain": [
       "array([[0.32654058, 0.67345942],\n",
       "       [0.51091219, 0.48908781],\n",
       "       [0.82883137, 0.17116863],\n",
       "       [0.15656761, 0.84343239],\n",
       "       [0.10890213, 0.89109787],\n",
       "       [0.66591032, 0.33408968],\n",
       "       [0.34603329, 0.65396671],\n",
       "       [0.14217203, 0.85782797],\n",
       "       [0.11719886, 0.88280114],\n",
       "       [0.13765332, 0.86234668],\n",
       "       [0.18606202, 0.81393798],\n",
       "       [0.37028862, 0.62971138],\n",
       "       [0.14995752, 0.85004248],\n",
       "       [0.30248589, 0.69751411],\n",
       "       [0.62925203, 0.37074797],\n",
       "       [0.14457863, 0.85542137],\n",
       "       [0.24490033, 0.75509967],\n",
       "       [0.15713599, 0.84286401],\n",
       "       [0.35974888, 0.64025112],\n",
       "       [0.20582462, 0.79417538],\n",
       "       [0.62455928, 0.37544072],\n",
       "       [0.10357809, 0.89642191],\n",
       "       [0.58931848, 0.41068152],\n",
       "       [0.31495219, 0.68504781],\n",
       "       [0.22767621, 0.77232379],\n",
       "       [0.19811898, 0.80188102],\n",
       "       [0.69212041, 0.30787959],\n",
       "       [0.14713993, 0.85286007],\n",
       "       [0.17105782, 0.82894218],\n",
       "       [0.27563022, 0.72436978],\n",
       "       [0.18988815, 0.81011185],\n",
       "       [0.30715495, 0.69284505],\n",
       "       [0.66025192, 0.33974808],\n",
       "       [0.27122222, 0.72877778],\n",
       "       [0.74627829, 0.25372171],\n",
       "       [0.10766929, 0.89233071],\n",
       "       [0.15342672, 0.84657328],\n",
       "       [0.18946617, 0.81053383],\n",
       "       [0.16315902, 0.83684098],\n",
       "       [0.13934011, 0.86065989],\n",
       "       [0.18120798, 0.81879202],\n",
       "       [0.53991013, 0.46008987],\n",
       "       [0.22581756, 0.77418244],\n",
       "       [0.21622746, 0.78377254],\n",
       "       [0.09568016, 0.90431984],\n",
       "       [0.63600418, 0.36399582],\n",
       "       [0.2309163 , 0.7690837 ],\n",
       "       [0.57246745, 0.42753255],\n",
       "       [0.16276528, 0.83723472],\n",
       "       [0.18501695, 0.81498305],\n",
       "       [0.13691224, 0.86308776],\n",
       "       [0.11061117, 0.88938883],\n",
       "       [0.11928216, 0.88071784],\n",
       "       [0.16760784, 0.83239216],\n",
       "       [0.57535598, 0.42464402],\n",
       "       [0.1336154 , 0.8663846 ],\n",
       "       [0.33064003, 0.66935997],\n",
       "       [0.54188433, 0.45811567],\n",
       "       [0.59775232, 0.40224768],\n",
       "       [0.69986351, 0.30013649],\n",
       "       [0.1795684 , 0.8204316 ],\n",
       "       [0.21565351, 0.78434649],\n",
       "       [0.66333155, 0.33666845],\n",
       "       [0.70708448, 0.29291552],\n",
       "       [0.17498423, 0.82501577],\n",
       "       [0.14158268, 0.85841732],\n",
       "       [0.22567791, 0.77432209],\n",
       "       [0.39013738, 0.60986262],\n",
       "       [0.18735504, 0.81264496],\n",
       "       [0.57715529, 0.42284471],\n",
       "       [0.2094587 , 0.7905413 ],\n",
       "       [0.18950974, 0.81049026],\n",
       "       [0.15779842, 0.84220158],\n",
       "       [0.13009116, 0.86990884],\n",
       "       [0.1089168 , 0.8910832 ],\n",
       "       [0.2387172 , 0.7612828 ],\n",
       "       [0.30515612, 0.69484388],\n",
       "       [0.55877126, 0.44122874],\n",
       "       [0.29242757, 0.70757243],\n",
       "       [0.24879712, 0.75120288],\n",
       "       [0.71277951, 0.28722049],\n",
       "       [0.15308888, 0.84691112],\n",
       "       [0.2148507 , 0.7851493 ],\n",
       "       [0.14940414, 0.85059586],\n",
       "       [0.26805504, 0.73194496],\n",
       "       [0.37943368, 0.62056632],\n",
       "       [0.19506498, 0.80493502],\n",
       "       [0.65372025, 0.34627975],\n",
       "       [0.21670062, 0.78329938],\n",
       "       [0.11629822, 0.88370178],\n",
       "       [0.16529755, 0.83470245],\n",
       "       [0.62704412, 0.37295588],\n",
       "       [0.24221419, 0.75778581],\n",
       "       [0.16209702, 0.83790298],\n",
       "       [0.7335318 , 0.2664682 ],\n",
       "       [0.2225659 , 0.7774341 ],\n",
       "       [0.32522531, 0.67477469],\n",
       "       [0.19593455, 0.80406545],\n",
       "       [0.50633517, 0.49366483],\n",
       "       [0.13253882, 0.86746118],\n",
       "       [0.19276168, 0.80723832],\n",
       "       [0.5451213 , 0.4548787 ],\n",
       "       [0.30426567, 0.69573433],\n",
       "       [0.25222244, 0.74777756],\n",
       "       [0.65811504, 0.34188496],\n",
       "       [0.20253225, 0.79746775],\n",
       "       [0.2508586 , 0.7491414 ],\n",
       "       [0.24200111, 0.75799889],\n",
       "       [0.17605388, 0.82394612],\n",
       "       [0.56938713, 0.43061287],\n",
       "       [0.2125023 , 0.7874977 ],\n",
       "       [0.15975893, 0.84024107],\n",
       "       [0.1871798 , 0.8128202 ],\n",
       "       [0.18474716, 0.81525284],\n",
       "       [0.72297327, 0.27702673],\n",
       "       [0.11303732, 0.88696268],\n",
       "       [0.20754815, 0.79245185],\n",
       "       [0.65293476, 0.34706524],\n",
       "       [0.40178415, 0.59821585],\n",
       "       [0.16021991, 0.83978009],\n",
       "       [0.24897156, 0.75102844],\n",
       "       [0.31697056, 0.68302944],\n",
       "       [0.17559827, 0.82440173]])"
      ]
     },
     "execution_count": 57,
     "metadata": {},
     "output_type": "execute_result"
    }
   ],
   "source": [
    "pred_prob"
   ]
  },
  {
   "cell_type": "code",
   "execution_count": 58,
   "id": "1fc1ef31-de77-49b2-a186-398a64cb1741",
   "metadata": {},
   "outputs": [
    {
     "data": {
      "text/plain": [
       "array([0.67345942, 0.48908781, 0.17116863, 0.84343239, 0.89109787,\n",
       "       0.33408968, 0.65396671, 0.85782797, 0.88280114, 0.86234668,\n",
       "       0.81393798, 0.62971138, 0.85004248, 0.69751411, 0.37074797,\n",
       "       0.85542137, 0.75509967, 0.84286401, 0.64025112, 0.79417538,\n",
       "       0.37544072, 0.89642191, 0.41068152, 0.68504781, 0.77232379,\n",
       "       0.80188102, 0.30787959, 0.85286007, 0.82894218, 0.72436978,\n",
       "       0.81011185, 0.69284505, 0.33974808, 0.72877778, 0.25372171,\n",
       "       0.89233071, 0.84657328, 0.81053383, 0.83684098, 0.86065989,\n",
       "       0.81879202, 0.46008987, 0.77418244, 0.78377254, 0.90431984,\n",
       "       0.36399582, 0.7690837 , 0.42753255, 0.83723472, 0.81498305,\n",
       "       0.86308776, 0.88938883, 0.88071784, 0.83239216, 0.42464402,\n",
       "       0.8663846 , 0.66935997, 0.45811567, 0.40224768, 0.30013649,\n",
       "       0.8204316 , 0.78434649, 0.33666845, 0.29291552, 0.82501577,\n",
       "       0.85841732, 0.77432209, 0.60986262, 0.81264496, 0.42284471,\n",
       "       0.7905413 , 0.81049026, 0.84220158, 0.86990884, 0.8910832 ,\n",
       "       0.7612828 , 0.69484388, 0.44122874, 0.70757243, 0.75120288,\n",
       "       0.28722049, 0.84691112, 0.7851493 , 0.85059586, 0.73194496,\n",
       "       0.62056632, 0.80493502, 0.34627975, 0.78329938, 0.88370178,\n",
       "       0.83470245, 0.37295588, 0.75778581, 0.83790298, 0.2664682 ,\n",
       "       0.7774341 , 0.67477469, 0.80406545, 0.49366483, 0.86746118,\n",
       "       0.80723832, 0.4548787 , 0.69573433, 0.74777756, 0.34188496,\n",
       "       0.79746775, 0.7491414 , 0.75799889, 0.82394612, 0.43061287,\n",
       "       0.7874977 , 0.84024107, 0.8128202 , 0.81525284, 0.27702673,\n",
       "       0.88696268, 0.79245185, 0.34706524, 0.59821585, 0.83978009,\n",
       "       0.75102844, 0.68302944, 0.82440173])"
      ]
     },
     "execution_count": 58,
     "metadata": {},
     "output_type": "execute_result"
    }
   ],
   "source": [
    "#pred_prob[:,1]  #it will select probabilty for class 1"
   ]
  },
  {
   "cell_type": "code",
   "execution_count": 59,
   "id": "9e0b1a5d-cae2-45e9-83bd-dfff26c4be3e",
   "metadata": {},
   "outputs": [],
   "source": [
    "#Roc Curve\n",
    "fpr,tpr,thresh=roc_curve(cr_test_y,pred_prob[:,1])"
   ]
  },
  {
   "cell_type": "code",
   "execution_count": 63,
   "id": "74108f4a-4196-45c7-9f67-a8b599cee071",
   "metadata": {},
   "outputs": [
    {
     "data": {
      "text/plain": [
       "Text(0.5, 0.5, 'AUROC is 0.6527108433734939')"
      ]
     },
     "execution_count": 63,
     "metadata": {},
     "output_type": "execute_result"
    },
    {
     "data": {
      "image/png": "[encoded data removed]",
      "text/plain": [
       "<Figure size 432x288 with 1 Axes>"
      ]
     },
     "metadata": {
      "needs_background": "light"
     },
     "output_type": "display_data"
    }
   ],
   "source": [
    "import matplotlib.pyplot as plt\n",
    "plt.plot(fpr,tpr)\n",
    "plt.xlabel(\"Fpr\")\n",
    "plt.ylabel(\"Tpr\")\n",
    "plt.title(\"AUROC curve on credit risk\")\n",
    "plt.grid()\n",
    "plt.text(x=0.5,y=.5,s=\"AUROC is 0.6527108433734939\")"
   ]
  },
  {
   "cell_type": "code",
   "execution_count": null,
   "id": "7802f799-31c8-43a6-9415-bb4fb90504e1",
   "metadata": {},
   "outputs": [],
   "source": []
  }
 ],
 "metadata": {
  "kernelspec": {
   "display_name": "Python 3",
   "language": "python",
   "name": "python3"
  },
  "language_info": {
   "codemirror_mode": {
    "name": "ipython",
    "version": 3
   },
   "file_extension": ".py",
   "mimetype": "text/x-python",
   "name": "python",
   "nbconvert_exporter": "python",
   "pygments_lexer": "ipython3",
   "version": "3.9.12"
  }
 },
 "nbformat": 4,
 "nbformat_minor": 5
}
